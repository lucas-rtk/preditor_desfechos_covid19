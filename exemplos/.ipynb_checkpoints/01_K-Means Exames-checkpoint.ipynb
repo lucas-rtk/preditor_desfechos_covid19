{
 "cells": [
  {
   "cell_type": "markdown",
   "id": "f0d96acd",
   "metadata": {},
   "source": [
    "# Teste K-Means\n",
    "Dados de exames\n",
    "Classificação utilizando\n",
    "- Eritrócitos\n",
    "- Hematócritos \n",
    "- VCM\n",
    "- HCM\n",
    "- CHCM\n",
    "- RDW\n",
    "- Leucócitos"
   ]
  },
  {
   "cell_type": "code",
   "execution_count": 1,
   "id": "919929ba",
   "metadata": {},
   "outputs": [],
   "source": [
    "import numpy as np\n",
    "import pandas as pd\n",
    "\n",
    "import matplotlib.pyplot as plt\n",
    "\n",
    "import sklearn\n",
    "from sklearn.cluster import KMeans\n",
    "from mpl_toolkits.mplot3d import Axes3D\n",
    "from sklearn.preprocessing import scale\n",
    "\n",
    "import sklearn.metrics as sm\n",
    "from sklearn import datasets"
   ]
  },
  {
   "cell_type": "code",
   "execution_count": 11,
   "id": "e773bfd1",
   "metadata": {},
   "outputs": [
    {
     "data": {
      "text/html": [
       "<div>\n",
       "<style scoped>\n",
       "    .dataframe tbody tr th:only-of-type {\n",
       "        vertical-align: middle;\n",
       "    }\n",
       "\n",
       "    .dataframe tbody tr th {\n",
       "        vertical-align: top;\n",
       "    }\n",
       "\n",
       "    .dataframe thead th {\n",
       "        text-align: right;\n",
       "    }\n",
       "</style>\n",
       "<table border=\"1\" class=\"dataframe\">\n",
       "  <thead>\n",
       "    <tr style=\"text-align: right;\">\n",
       "      <th></th>\n",
       "      <th>Eritrócitos</th>\n",
       "      <th>Hemoglobina</th>\n",
       "      <th>Hematócrito</th>\n",
       "      <th>VCM</th>\n",
       "      <th>HCM</th>\n",
       "      <th>CHCM</th>\n",
       "      <th>RDW</th>\n",
       "    </tr>\n",
       "  </thead>\n",
       "  <tbody>\n",
       "    <tr>\n",
       "      <th>0</th>\n",
       "      <td>13.1</td>\n",
       "      <td>38.1</td>\n",
       "      <td>80.5</td>\n",
       "      <td>27.7</td>\n",
       "      <td>34.4</td>\n",
       "      <td>13.3</td>\n",
       "      <td>4300</td>\n",
       "    </tr>\n",
       "    <tr>\n",
       "      <th>1</th>\n",
       "      <td>13.2</td>\n",
       "      <td>37.5</td>\n",
       "      <td>81.3</td>\n",
       "      <td>28.6</td>\n",
       "      <td>35.2</td>\n",
       "      <td>13.8</td>\n",
       "      <td>3800</td>\n",
       "    </tr>\n",
       "    <tr>\n",
       "      <th>2</th>\n",
       "      <td>13.1</td>\n",
       "      <td>38.9</td>\n",
       "      <td>88.0</td>\n",
       "      <td>29.6</td>\n",
       "      <td>33.7</td>\n",
       "      <td>13.9</td>\n",
       "      <td>5200</td>\n",
       "    </tr>\n",
       "    <tr>\n",
       "      <th>3</th>\n",
       "      <td>13.3</td>\n",
       "      <td>38.9</td>\n",
       "      <td>87.6</td>\n",
       "      <td>30.0</td>\n",
       "      <td>34.2</td>\n",
       "      <td>14.2</td>\n",
       "      <td>4800</td>\n",
       "    </tr>\n",
       "    <tr>\n",
       "      <th>4</th>\n",
       "      <td>17.0</td>\n",
       "      <td>48.2</td>\n",
       "      <td>83.4</td>\n",
       "      <td>29.4</td>\n",
       "      <td>35.3</td>\n",
       "      <td>14.3</td>\n",
       "      <td>12800</td>\n",
       "    </tr>\n",
       "    <tr>\n",
       "      <th>...</th>\n",
       "      <td>...</td>\n",
       "      <td>...</td>\n",
       "      <td>...</td>\n",
       "      <td>...</td>\n",
       "      <td>...</td>\n",
       "      <td>...</td>\n",
       "      <td>...</td>\n",
       "    </tr>\n",
       "    <tr>\n",
       "      <th>895</th>\n",
       "      <td>13.6</td>\n",
       "      <td>41.0</td>\n",
       "      <td>85.4</td>\n",
       "      <td>28.3</td>\n",
       "      <td>33.2</td>\n",
       "      <td>14.3</td>\n",
       "      <td>13900</td>\n",
       "    </tr>\n",
       "    <tr>\n",
       "      <th>896</th>\n",
       "      <td>12.7</td>\n",
       "      <td>37.1</td>\n",
       "      <td>83.0</td>\n",
       "      <td>28.4</td>\n",
       "      <td>34.2</td>\n",
       "      <td>15.6</td>\n",
       "      <td>11200</td>\n",
       "    </tr>\n",
       "    <tr>\n",
       "      <th>897</th>\n",
       "      <td>11.3</td>\n",
       "      <td>34.6</td>\n",
       "      <td>84.4</td>\n",
       "      <td>27.6</td>\n",
       "      <td>32.7</td>\n",
       "      <td>15.6</td>\n",
       "      <td>10500</td>\n",
       "    </tr>\n",
       "    <tr>\n",
       "      <th>898</th>\n",
       "      <td>11.4</td>\n",
       "      <td>34.2</td>\n",
       "      <td>83.6</td>\n",
       "      <td>27.9</td>\n",
       "      <td>33.3</td>\n",
       "      <td>15.6</td>\n",
       "      <td>10700</td>\n",
       "    </tr>\n",
       "    <tr>\n",
       "      <th>899</th>\n",
       "      <td>11.5</td>\n",
       "      <td>34.1</td>\n",
       "      <td>82.4</td>\n",
       "      <td>27.8</td>\n",
       "      <td>33.7</td>\n",
       "      <td>15.5</td>\n",
       "      <td>8900</td>\n",
       "    </tr>\n",
       "  </tbody>\n",
       "</table>\n",
       "<p>900 rows × 7 columns</p>\n",
       "</div>"
      ],
      "text/plain": [
       "     Eritrócitos  Hemoglobina  Hematócrito   VCM   HCM  CHCM    RDW\n",
       "0           13.1         38.1         80.5  27.7  34.4  13.3   4300\n",
       "1           13.2         37.5         81.3  28.6  35.2  13.8   3800\n",
       "2           13.1         38.9         88.0  29.6  33.7  13.9   5200\n",
       "3           13.3         38.9         87.6  30.0  34.2  14.2   4800\n",
       "4           17.0         48.2         83.4  29.4  35.3  14.3  12800\n",
       "..           ...          ...          ...   ...   ...   ...    ...\n",
       "895         13.6         41.0         85.4  28.3  33.2  14.3  13900\n",
       "896         12.7         37.1         83.0  28.4  34.2  15.6  11200\n",
       "897         11.3         34.6         84.4  27.6  32.7  15.6  10500\n",
       "898         11.4         34.2         83.6  27.9  33.3  15.6  10700\n",
       "899         11.5         34.1         82.4  27.8  33.7  15.5   8900\n",
       "\n",
       "[900 rows x 7 columns]"
      ]
     },
     "execution_count": 11,
     "metadata": {},
     "output_type": "execute_result"
    }
   ],
   "source": [
    "dados = pd.read_csv('./datasets/exames.csv', delimiter=';')\n",
    "dados"
   ]
  },
  {
   "cell_type": "code",
   "execution_count": 12,
   "id": "c30f3914",
   "metadata": {},
   "outputs": [
    {
     "data": {
      "text/plain": [
       "array([[ 0.90144364,  0.25220655, -1.22463586, ...,  0.88058477,\n",
       "        -0.32810866, -0.5996889 ],\n",
       "       [ 0.94052168,  0.21920898, -1.11437729, ...,  1.33316599,\n",
       "        -0.24814283, -0.6348017 ],\n",
       "       [ 0.90144364,  0.29620331, -0.19096173, ...,  0.4845762 ,\n",
       "        -0.23214967, -0.53648584],\n",
       "       ...,\n",
       "       [ 0.19803884,  0.05972072, -0.68712531, ..., -0.08115033,\n",
       "         0.03973413, -0.16429009],\n",
       "       [ 0.23711689,  0.03772233, -0.79738389, ...,  0.25828559,\n",
       "         0.03973413, -0.15024497],\n",
       "       [ 0.27619493,  0.03222274, -0.96277175, ...,  0.4845762 ,\n",
       "         0.02374096, -0.27665107]])"
      ]
     },
     "execution_count": 12,
     "metadata": {},
     "output_type": "execute_result"
    }
   ],
   "source": [
    "x = scale(dados)\n",
    "x"
   ]
  },
  {
   "cell_type": "code",
   "execution_count": 19,
   "id": "11de7b54",
   "metadata": {
    "scrolled": true
   },
   "outputs": [
    {
     "data": {
      "text/plain": [
       "Text(0.5, 1.0, 'teste')"
      ]
     },
     "execution_count": 19,
     "metadata": {},
     "output_type": "execute_result"
    },
    {
     "data": {
      "image/png": "[encoded data removed]",
      "text/plain": [
       "<Figure size 432x288 with 1 Axes>"
      ]
     },
     "metadata": {
      "needs_background": "light"
     },
     "output_type": "display_data"
    }
   ],
   "source": [
    "clustering = KMeans(n_clusters=5, random_state = 5)\n",
    "clustering.fit(x)\n",
    "\n",
    "df = pd.DataFrame(dados)\n",
    "\n",
    "plt.subplot(1,2,1)\n",
    "plt.scatter(x=df.VCM, y=df.HCM)\n",
    "plt.title('teste')"
   ]
  }
 ],
 "metadata": {
  "kernelspec": {
   "display_name": "Python 3 (ipykernel)",
   "language": "python",
   "name": "python3"
  },
  "language_info": {
   "codemirror_mode": {
    "name": "ipython",
    "version": 3
   },
   "file_extension": ".py",
   "mimetype": "text/x-python",
   "name": "python",
   "nbconvert_exporter": "python",
   "pygments_lexer": "ipython3",
   "version": "3.9.5"
  }
 },
 "nbformat": 4,
 "nbformat_minor": 5
}
