{
 "cells": [
  {
   "cell_type": "markdown",
   "id": "37ea245f",
   "metadata": {},
   "source": [
    "# Teste K-Means\n",
    "Dados de exames\n",
    "Classificação utilizando\n",
    "- Eritrócitos\n",
    "- Hematócritos \n",
    "- VCM\n",
    "- HCM\n",
    "- CHCM\n",
    "- RDW"
   ]
  },
  {
   "cell_type": "code",
   "execution_count": 2,
   "id": "8101145e",
   "metadata": {},
   "outputs": [],
   "source": [
    "import numpy as np\n",
    "import pandas as pd\n",
    "\n",
    "import matplotlib.pyplot as plt\n",
    "\n",
    "import sklearn\n",
    "from sklearn.cluster import KMeans\n",
    "from mpl_toolkits.mplot3d import Axes3D\n",
    "from sklearn.preprocessing import scale\n",
    "\n",
    "import sklearn.metrics as sm\n",
    "from sklearn import datasets"
   ]
  },
  {
   "cell_type": "code",
   "execution_count": 3,
   "id": "725c7120",
   "metadata": {},
   "outputs": [],
   "source": [
    "dados = pd.read_csv('./datasets/exames.csv', delimiter=';')\n"
   ]
  },
  {
   "cell_type": "code",
   "execution_count": 4,
   "id": "e938ae1d",
   "metadata": {},
   "outputs": [],
   "source": [
    "x = scale(dados)"
   ]
  },
  {
   "cell_type": "code",
   "execution_count": 17,
   "id": "cbe425fe",
   "metadata": {
    "scrolled": true
   },
   "outputs": [
    {
     "data": {
      "text/plain": [
       "<matplotlib.collections.PathCollection at 0x13981a8>"
      ]
     },
     "execution_count": 17,
     "metadata": {},
     "output_type": "execute_result"
    },
    {
     "data": {
      "image/png": "[encoded data removed]",
      "text/plain": [
       "<Figure size 432x288 with 1 Axes>"
      ]
     },
     "metadata": {
      "needs_background": "light"
     },
     "output_type": "display_data"
    }
   ],
   "source": [
    "kmeans = KMeans(n_clusters=2, random_state = 12, init='k-means++')\n",
    "kmeans.fit(x)\n",
    "\n",
    "y_means = kmeans.predict(x)\n",
    "\n",
    "plt.scatter(x[:, 1], x[:, 6], c=y_means, cmap='viridis', s=50)\n",
    "\n",
    "centros = kmeans.cluster_centers_\n",
    "plt.scatter(centros[:, 0], centros[:, 1], c='black', s=200, alpha=.5)"
   ]
  }
 ],
 "metadata": {
  "kernelspec": {
   "display_name": "Python 3 (ipykernel)",
   "language": "python",
   "name": "python3"
  },
  "language_info": {
   "codemirror_mode": {
    "name": "ipython",
    "version": 3
   },
   "file_extension": ".py",
   "mimetype": "text/x-python",
   "name": "python",
   "nbconvert_exporter": "python",
   "pygments_lexer": "ipython3",
   "version": "3.9.5"
  }
 },
 "nbformat": 4,
 "nbformat_minor": 5
}
